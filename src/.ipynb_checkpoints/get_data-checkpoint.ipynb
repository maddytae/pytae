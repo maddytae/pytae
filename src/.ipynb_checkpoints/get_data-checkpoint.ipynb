{
 "cells": [
  {
   "cell_type": "code",
   "execution_count": null,
   "id": "0fe64a26-2fb9-4272-b389-768653879781",
   "metadata": {},
   "outputs": [],
   "source": [
    "# get_data returns subset of aggregated data; Function is very generic and can be on any col\n",
    "# by default return is sum but can be one of 'sum', 'mean', 'max', 'min', and 'n'\n",
    "\n",
    "import pandas as pd\n",
    "import pytae as pt\n",
    "import seaborn as sns\n",
    "penguins = sns.load_dataset('penguins')"
   ]
  },
  {
   "cell_type": "code",
   "execution_count": null,
   "id": "71ff2554-e610-4592-a019-c3bc2b0c536d",
   "metadata": {},
   "outputs": [],
   "source": [
    "penguins.get_data(value=['body_mass_g','bill_length_mm'],\n",
    "                  species='Adelie',\n",
    "                  default_cols=['island','sex']).head()"
   ]
  },
  {
   "cell_type": "code",
   "execution_count": null,
   "id": "9ed6f23b-f588-4651-9db4-3cfb56b37a9b",
   "metadata": {},
   "outputs": [],
   "source": [
    "penguins.get_data(value='body_mass_g',island='Biscoe',species='Gentoo',\n",
    "                  default_cols=['island','sex','species'],\n",
    "                  aggfunc='sum')"
   ]
  },
  {
   "cell_type": "code",
   "execution_count": null,
   "id": "2e9408f6-09bf-4893-8c21-87c791dbe65e",
   "metadata": {},
   "outputs": [],
   "source": [
    "penguins.get_data(value=['body_mass_g','bill_length_mm','flipper_length_mm','bill_depth_mm'],\n",
    "                  default_cols=['species','sex','island'], aggfunc='mean',dropna=False)"
   ]
  },
  {
   "cell_type": "code",
   "execution_count": null,
   "id": "6d82acc4-bbfb-4bd0-89f5-74571341cc84",
   "metadata": {},
   "outputs": [],
   "source": [
    "penguins.get_data(value=['body_mass_g'],\n",
    "                  default_cols=['species'],\n",
    "                  aggfunc='sum').wide(col='species',value='body_mass_g')"
   ]
  },
  {
   "cell_type": "code",
   "execution_count": null,
   "id": "d5d9db51-d5ba-4f2b-a23c-bd253d26a431",
   "metadata": {},
   "outputs": [],
   "source": [
    "#notice for aggfunc n, value col is not necessary\n",
    "penguins.get_data(aggfunc='n',default_cols=['species'])"
   ]
  },
  {
   "cell_type": "code",
   "execution_count": null,
   "id": "7a09ecae-84f1-4241-951c-b7f0f9db8dae",
   "metadata": {},
   "outputs": [],
   "source": [
    "penguins.group_x(group=['island','species','sex'],dropna=True,value='body_mass_g',aggfunc='max')"
   ]
  },
  {
   "cell_type": "code",
   "execution_count": null,
   "id": "21eee39d-4ef6-44e2-83c4-e12e6abd5750",
   "metadata": {},
   "outputs": [],
   "source": [
    "penguins.group_x(group=['island','species','sex'],dropna=False)"
   ]
  },
  {
   "cell_type": "code",
   "execution_count": null,
   "id": "93b3db4d-6936-4bc8-b831-96f96d1d5dcd",
   "metadata": {},
   "outputs": [],
   "source": [
    "penguins = sns.load_dataset('penguins')\n",
    "penguins['n'] = penguins.groupby(['island','species','sex'], dropna=False).size().reset_index(drop=True)\n",
    "penguins"
   ]
  },
  {
   "cell_type": "code",
   "execution_count": null,
   "id": "04913eed-d30a-401a-8ceb-968ea25c952a",
   "metadata": {},
   "outputs": [],
   "source": [
    "penguins = sns.load_dataset('penguins')\n",
    "penguins.group_x(group=['island','species','sex'],dropna=False,value='body_mass_g',aggfunc='max')\n",
    "# penguins.clip()\n"
   ]
  },
  {
   "cell_type": "code",
   "execution_count": null,
   "id": "743acf38-4bf7-4df8-b8ae-ceeb54c7426b",
   "metadata": {},
   "outputs": [],
   "source": [
    "penguins = sns.load_dataset('penguins')\n",
    "penguins.group_x(group=['island','species','sex'],dropna=True,value='body_mass_g',aggfunc='max')\n",
    "\n"
   ]
  },
  {
   "cell_type": "code",
   "execution_count": null,
   "id": "a9b12a67-c510-4f05-af37-9b4e4d80d3cf",
   "metadata": {},
   "outputs": [],
   "source": [
    "penguins.group_x(group=['island','species','sex'],dropna=False)"
   ]
  },
  {
   "cell_type": "code",
   "execution_count": null,
   "id": "7509da13-ceb3-40fb-a59c-0dcc84f373c2",
   "metadata": {},
   "outputs": [],
   "source": [
    "!pip install pytae --upgrade"
   ]
  },
  {
   "cell_type": "code",
   "execution_count": null,
   "id": "a1a640d2-f285-4845-9ae8-8db399583ba0",
   "metadata": {},
   "outputs": [],
   "source": []
  }
 ],
 "metadata": {
  "kernelspec": {
   "display_name": "py_env",
   "language": "python",
   "name": "py_env"
  },
  "language_info": {
   "codemirror_mode": {
    "name": "ipython",
    "version": 3
   },
   "file_extension": ".py",
   "mimetype": "text/x-python",
   "name": "python",
   "nbconvert_exporter": "python",
   "pygments_lexer": "ipython3",
   "version": "3.9.6"
  }
 },
 "nbformat": 4,
 "nbformat_minor": 5
}
