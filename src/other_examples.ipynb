{
 "cells": [
  {
   "cell_type": "code",
   "execution_count": null,
   "id": "ca39d441-5dd5-41ef-8ada-df36867a21da",
   "metadata": {},
   "outputs": [],
   "source": [
    "import pytae as pt\n",
    "import pandas as pd"
   ]
  },
  {
   "cell_type": "code",
   "execution_count": null,
   "id": "0ed4c004-6870-462f-8686-46bd44f9b92a",
   "metadata": {},
   "outputs": [],
   "source": [
    "nums=['x','y','z']\n",
    "non_nums=['a','b','c']\n",
    "pt.create_qry('data','tbl',nums,non_nums)\n"
   ]
  },
  {
   "cell_type": "code",
   "execution_count": null,
   "id": "2bd7acbe-f660-496b-80c8-600179c0b417",
   "metadata": {},
   "outputs": [],
   "source": [
    "nums={'x':['sum','x1'],'y':['sum','y1'],'z':['sum','z1']}\n",
    "non_nums=['a','b','c']\n",
    "\n",
    "pt.create_qry('data','tbl',nums,non_nums)"
   ]
  },
  {
   "cell_type": "code",
   "execution_count": null,
   "id": "ed4479f5-a2ac-49a7-b23b-4cde3cb782e8",
   "metadata": {},
   "outputs": [],
   "source": [
    "pt.create_qry('data','tbl',nums,non_nums,'where c=18')"
   ]
  },
  {
   "cell_type": "code",
   "execution_count": null,
   "id": "daaddf1b-bb3d-4b0f-9548-543e7208c7ed",
   "metadata": {},
   "outputs": [],
   "source": [
    "\n",
    "df=pd.DataFrame({'id':['a','b','c','d','e','','f','f'],\n",
    "                  'balance':[10,20,0,21,15,10,20,25],\n",
    "                  'country':['sg','cn','ca','np','in','in','np','in']})\n",
    "\n",
    "print(df.info())\n",
    "df[['id','balance']].agg_df(type=['sum','min'])\n"
   ]
  },
  {
   "cell_type": "code",
   "execution_count": null,
   "id": "2f6c5f52-79a1-4256-b0d6-25eba94d71d0",
   "metadata": {},
   "outputs": [],
   "source": [
    "df[['id','balance']].agg_df()"
   ]
  },
  {
   "cell_type": "code",
   "execution_count": null,
   "id": "e6515b39-8c70-4883-a71f-84816d6f56a4",
   "metadata": {},
   "outputs": [],
   "source": [
    "df[['id','balance']].agg_df(type=['sum','min','n'])"
   ]
  },
  {
   "cell_type": "code",
   "execution_count": null,
   "id": "e29523e5-e882-4b48-8257-12250db36800",
   "metadata": {},
   "outputs": [],
   "source": [
    "df[['id','balance']].agg_df(type=['n','mean'])"
   ]
  },
  {
   "cell_type": "code",
   "execution_count": null,
   "id": "b74396f8-599e-41b2-b283-dd045fc55b62",
   "metadata": {},
   "outputs": [],
   "source": [
    "df[['id','balance']].agg_df(type=['min'])"
   ]
  },
  {
   "cell_type": "code",
   "execution_count": null,
   "id": "a740ee20-bdfa-4013-bd2e-90d3ee0b7963",
   "metadata": {},
   "outputs": [],
   "source": [
    "df[['id','balance']].agg_df(type=['mean'])"
   ]
  },
  {
   "cell_type": "code",
   "execution_count": null,
   "id": "01f4e85c-2f6b-4146-b83b-c7e17be16153",
   "metadata": {
    "scrolled": true
   },
   "outputs": [],
   "source": [
    "df[['id','balance']].agg_df()"
   ]
  },
  {
   "cell_type": "code",
   "execution_count": null,
   "id": "968a5a41-491e-4490-8c75-cf3f3d79fe06",
   "metadata": {},
   "outputs": [],
   "source": [
    "help(pd.DataFrame.agg_df)"
   ]
  },
  {
   "cell_type": "code",
   "execution_count": null,
   "id": "ac9aae02-383e-4af1-9912-c63a3203acda",
   "metadata": {},
   "outputs": [],
   "source": [
    "df[['id','balance']].agg_df(type=['sum'])"
   ]
  },
  {
   "cell_type": "code",
   "execution_count": null,
   "id": "a5842479-8c0d-4648-817c-c3d70281ac3a",
   "metadata": {},
   "outputs": [],
   "source": [
    "import seaborn as sns\n",
    "# Assuming penguins dataset is loaded\n",
    "penguins = sns.load_dataset('penguins')\n",
    "penguins.agg_df(type=['n']).plot(kind='bar',x='island')"
   ]
  },
  {
   "cell_type": "code",
   "execution_count": null,
   "id": "c512778d-7297-4747-9971-ef684dc476a6",
   "metadata": {},
   "outputs": [],
   "source": [
    "penguins.agg_df(type=['n'])"
   ]
  },
  {
   "cell_type": "code",
   "execution_count": null,
   "id": "8686f087-2124-44e9-91dc-08350ea9a384",
   "metadata": {},
   "outputs": [],
   "source": [
    "\n",
    "penguins.long(var_name='features',val_name='value').value.sum()"
   ]
  },
  {
   "cell_type": "code",
   "execution_count": null,
   "id": "020020d7-a43c-4a0a-9da6-065ca31c8bb5",
   "metadata": {},
   "outputs": [],
   "source": [
    "penguins.long(var_name='features',\n",
    "              val_name='value').wide(col='features',aggfunc='sum').long(var_name='features',val_name='value').value.sum()"
   ]
  },
  {
   "cell_type": "code",
   "execution_count": null,
   "id": "9639866f-2f66-4f4e-aac7-e010649e4956",
   "metadata": {},
   "outputs": [],
   "source": [
    "penguins.long(var_name='features',\n",
    "              val_name='value').wide(col='features')"
   ]
  },
  {
   "cell_type": "code",
   "execution_count": null,
   "id": "692ba49c-0d78-41d6-aad7-fa8045503ed7",
   "metadata": {},
   "outputs": [],
   "source": [
    "df = pd.DataFrame({'foo': ['one', 'one', 'one', 'two', 'two',\n",
    "                           'two'],\n",
    "                   'bar': ['A', 'B', 'C', 'A', 'B', 'C'],\n",
    "                   'baz': [1, 2, 3, 4, 5, 6],\n",
    "                   'zoo': ['x', 'y', 'z', 'q', 'w', 't']})\n",
    "df"
   ]
  },
  {
   "cell_type": "code",
   "execution_count": null,
   "id": "6502a2f3-0751-4d89-b400-74e99a635f18",
   "metadata": {},
   "outputs": [],
   "source": [
    "df.wide(col='bar', value='baz')"
   ]
  },
  {
   "cell_type": "code",
   "execution_count": null,
   "id": "a3c398fa-5ad4-48d6-8b9d-a3cbd173706d",
   "metadata": {},
   "outputs": [],
   "source": []
  }
 ],
 "metadata": {
  "kernelspec": {
   "display_name": "py_env",
   "language": "python",
   "name": "py_env"
  },
  "language_info": {
   "codemirror_mode": {
    "name": "ipython",
    "version": 3
   },
   "file_extension": ".py",
   "mimetype": "text/x-python",
   "name": "python",
   "nbconvert_exporter": "python",
   "pygments_lexer": "ipython3",
   "version": "3.9.6"
  }
 },
 "nbformat": 4,
 "nbformat_minor": 5
}
